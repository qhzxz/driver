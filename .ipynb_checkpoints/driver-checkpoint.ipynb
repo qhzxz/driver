{
 "cells": [
  {
   "cell_type": "code",
   "execution_count": null,
   "metadata": {
    "collapsed": false
   },
   "outputs": [],
   "source": [
    "from keras.optimizers import SGD, Adam\n",
    "from keras.layers import Dense, Flatten, GlobalAveragePooling2D, Dropout, Conv2D, MaxPooling2D, Input, Activation\n",
    "from keras.preprocessing.image import ImageDataGenerator\n",
    "from keras.utils import np_utils\n",
    "from keras import applications\n",
    "from keras.models import Model, Sequential\n",
    "from keras.regularizers import l2\n",
    "import gc\n",
    "import h5py\n",
    "import numpy as np\n",
    "import PIL.Image as Image\n",
    "import os\n",
    "import pandas\n",
    "import shutil\n",
    "\n"
   ]
  },
  {
   "cell_type": "code",
   "execution_count": null,
   "metadata": {
    "collapsed": false
   },
   "outputs": [],
   "source": [
    "def copy(srcPath, dstPath):\n",
    "    shutil.move(srcPath, dstPath)\n",
    "\n",
    "\n",
    "current_path = os.getcwd()\n",
    "vaild_dir = current_path + '/validation'\n",
    "if (not os.path.exists(vaild_dir)):\n",
    "    os.mkdir(vaild_dir)\n",
    "    csv = pandas.read_csv('driver_imgs_list.csv')\n",
    "    valid_count = 0\n",
    "    groupby = csv.groupby(['subject'])\n",
    "    for key in groupby.indices.keys():\n",
    "        if (valid_count < 1500):\n",
    "            pic_arr = groupby.indices[key]\n",
    "            for index in pic_arr:\n",
    "                col = csv.iloc[index]\n",
    "                img_path = col['img']\n",
    "                clazz = col['classname']\n",
    "                dstDir = current_path + '/validation/' + clazz\n",
    "                if (not os.path.exists(dstDir)):\n",
    "                    os.mkdir(dstDir)\n",
    "                dstPath = dstDir + '/' + img_path\n",
    "                srcPath = current_path + '/train/' + clazz + '/' + img_path\n",
    "                copy(srcPath,dstDir)\n",
    "            print(pic_arr.size)\n",
    "            valid_count = valid_count + pic_arr.size\n",
    "        else:\n",
    "            break"
   ]
  },
  {
   "cell_type": "code",
   "execution_count": null,
   "metadata": {
    "collapsed": false,
    "scrolled": false
   },
   "outputs": [],
   "source": [
    "mean = [103.939, 116.779, 123.68]\n",
    "\n",
    "def normalize(x):\n",
    "    x = x.astype('float32')\n",
    "    x[:, :, 0] = (x[:, :, 0] - mean[0])\n",
    "    x[:, :, 1] = (x[:, :, 1] - mean[1])\n",
    "    x[:, :, 2] = (x[:, :, 2] - mean[2])\n",
    "    return x\n",
    "\n",
    "train_generator = ImageDataGenerator(\n",
    "    preprocessing_function=normalize)\n",
    "\n",
    "test_generator = ImageDataGenerator(preprocessing_function=normalize)\n",
    "\n",
    "\n",
    "def get_custom_model(num_class):\n",
    "    base_model = applications.VGG16(include_top=False, input_shape=(224, 224, 3))\n",
    "    for layer in base_model.layers[:4]:\n",
    "        print(layer.name)\n",
    "        layer.trainable = False\n",
    "    x = GlobalAveragePooling2D(name='global')(base_model.get_layer('block5_pool').output)\n",
    "    #     x = Dense(20, activation='linear', name='fc1', kernel_regularizer=l2(0.01))(x)\n",
    "    x = Dense(512, activation='relu', name='fc1')(x)\n",
    "    x = Dense(num_class, activation='softmax', name='pred')(x)\n",
    "    model = Model(input=base_model.input, output=x)\n",
    "    sgd = SGD(lr=1e-1, momentum=0.9, decay=1e-6, nesterov=True)\n",
    "    #     sgd = SGD(lr=1e-10)\n",
    "    model.compile(optimizer=sgd,\n",
    "                  loss='categorical_crossentropy',\n",
    "                  metrics=['accuracy'])\n",
    "    model.summary()\n",
    "    return model\n",
    "\n",
    "\n",
    "custom_model = get_custom_model(10)\n",
    "\n",
    "print(\"compile finish!!!\")\n",
    "current_path = os.getcwd()\n",
    "\n",
    "custom_model.fit_generator(\n",
    "    train_generator.flow_from_directory(class_mode='categorical', batch_size=128,\n",
    "                                        directory=current_path + '/train',\n",
    "                                        target_size=(224, 224)),\n",
    "    use_multiprocessing=True,\n",
    "    epochs=20,\n",
    "    shuffle=True,\n",
    "    validation_data=test_generator.flow_from_directory(class_mode='categorical', batch_size=128,\n",
    "                                                       target_size=(224, 224),\n",
    "                                                       directory=current_path + '/validation'),\n",
    "    verbose=1)\n",
    "\n",
    "custom_model.save_weights('weight_1.meta')\n"
   ]
  }
 ],
 "metadata": {
  "kernelspec": {
   "display_name": "Python 3",
   "language": "python",
   "name": "python3"
  },
  "language_info": {
   "codemirror_mode": {
    "name": "ipython",
    "version": 3
   },
   "file_extension": ".py",
   "mimetype": "text/x-python",
   "name": "python",
   "nbconvert_exporter": "python",
   "pygments_lexer": "ipython3",
   "version": "3.5.4"
  }
 },
 "nbformat": 4,
 "nbformat_minor": 2
}
