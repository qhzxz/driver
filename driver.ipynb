{
 "cells": [
  {
   "cell_type": "code",
   "execution_count": null,
   "metadata": {},
   "outputs": [
    {
     "name": "stderr",
     "output_type": "stream",
     "text": [
      "/home/ubuntu/anaconda3/envs/tensorflow_p36/lib/python3.6/site-packages/h5py/__init__.py:36: FutureWarning: Conversion of the second argument of issubdtype from `float` to `np.floating` is deprecated. In future, it will be treated as `np.float64 == np.dtype(float).type`.\n",
      "  from ._conv import register_converters as _register_converters\n",
      "Using TensorFlow backend.\n",
      "/home/ubuntu/anaconda3/envs/tensorflow_p36/lib/python3.6/site-packages/matplotlib/__init__.py:962: UserWarning: Duplicate key in file \"/home/ubuntu/.config/matplotlib/matplotlibrc\", line #2\n",
      "  (fname, cnt))\n",
      "/home/ubuntu/anaconda3/envs/tensorflow_p36/lib/python3.6/site-packages/matplotlib/__init__.py:962: UserWarning: Duplicate key in file \"/home/ubuntu/.config/matplotlib/matplotlibrc\", line #3\n",
      "  (fname, cnt))\n"
     ]
    }
   ],
   "source": [
    "from keras.optimizers import SGD, Adam\n",
    "from keras.layers import Dense, Flatten, GlobalAveragePooling2D, Dropout, Conv2D, MaxPooling2D, Input, Activation\n",
    "from keras.preprocessing.image import ImageDataGenerator\n",
    "from keras.utils import np_utils\n",
    "from keras import applications\n",
    "from keras.models import Model, Sequential\n",
    "from keras.regularizers import l2\n",
    "import gc\n",
    "import h5py\n",
    "import numpy as np\n",
    "import PIL.Image as Image\n",
    "import os\n",
    "import pandas\n",
    "import shutil\n",
    "\n"
   ]
  },
  {
   "cell_type": "code",
   "execution_count": 2,
   "metadata": {},
   "outputs": [
    {
     "name": "stdout",
     "output_type": "stream",
     "text": [
      "(3017, 224, 224, 3)\n",
      "load finish!!!\n"
     ]
    }
   ],
   "source": [
    "def copy(srcPath, dstPath):\n",
    "    shutil.move(srcPath, dstPath)\n",
    "\n",
    "\n",
    "current_path = os.getcwd()\n",
    "vaild_dir = current_path + '/validation'\n",
    "if (not os.path.exists(vaild_dir)):\n",
    "    os.mkdir(vaild_dir)\n",
    "\n",
    "# train_paths = []\n",
    "# valid_paths = []\n",
    "csv = pandas.read_csv('driver_imgs_list.csv')\n",
    "valid_count = 0\n",
    "groupby = csv.groupby(['subject'])\n",
    "for key in groupby.indices.keys():\n",
    "    if (valid_count < 1500):\n",
    "        pic_arr = groupby.indices[key]\n",
    "        for index in pic_arr:\n",
    "            col = csv.iloc[index]\n",
    "            img_path = col['img']\n",
    "            clazz = col['classname']\n",
    "            dstDir = current_path + '/validation/' + clazz\n",
    "            if (not os.path.exists(dstDir)):\n",
    "                os.mkdir(dstDir)\n",
    "            dstPath = dstDir + '/' + img_path\n",
    "            srcPath = current_path + '/train/' + clazz + '/' + img_path\n",
    "            copy(srcPath,dstDir)\n",
    "        print(pic_arr.size)\n",
    "        valid_count = valid_count + pic_arr.size\n",
    "    else:\n",
    "        break"
   ]
  },
  {
   "cell_type": "code",
   "execution_count": null,
   "metadata": {
    "scrolled": false
   },
   "outputs": [
    {
     "name": "stdout",
     "output_type": "stream",
     "text": [
      "input_3\n",
      "block1_conv1\n",
      "block1_conv2\n",
      "block1_pool\n",
      "_________________________________________________________________\n",
      "Layer (type)                 Output Shape              Param #   \n",
      "=================================================================\n",
      "input_3 (InputLayer)         (None, 224, 224, 3)       0         \n",
      "_________________________________________________________________\n",
      "block1_conv1 (Conv2D)        (None, 224, 224, 64)      1792      \n",
      "_________________________________________________________________\n",
      "block1_conv2 (Conv2D)        (None, 224, 224, 64)      36928     \n",
      "_________________________________________________________________\n",
      "block1_pool (MaxPooling2D)   (None, 112, 112, 64)      0         \n",
      "_________________________________________________________________\n",
      "block2_conv1 (Conv2D)        (None, 112, 112, 128)     73856     \n",
      "_________________________________________________________________\n",
      "block2_conv2 (Conv2D)        (None, 112, 112, 128)     147584    \n",
      "_________________________________________________________________\n",
      "block2_pool (MaxPooling2D)   (None, 56, 56, 128)       0         \n",
      "_________________________________________________________________\n",
      "block3_conv1 (Conv2D)        (None, 56, 56, 256)       295168    \n",
      "_________________________________________________________________\n",
      "block3_conv2 (Conv2D)        (None, 56, 56, 256)       590080    \n",
      "_________________________________________________________________\n",
      "block3_conv3 (Conv2D)        (None, 56, 56, 256)       590080    \n",
      "_________________________________________________________________\n",
      "block3_pool (MaxPooling2D)   (None, 28, 28, 256)       0         \n",
      "_________________________________________________________________\n",
      "block4_conv1 (Conv2D)        (None, 28, 28, 512)       1180160   \n",
      "_________________________________________________________________\n",
      "block4_conv2 (Conv2D)        (None, 28, 28, 512)       2359808   \n",
      "_________________________________________________________________\n",
      "block4_conv3 (Conv2D)        (None, 28, 28, 512)       2359808   \n",
      "_________________________________________________________________\n",
      "block4_pool (MaxPooling2D)   (None, 14, 14, 512)       0         \n",
      "_________________________________________________________________\n",
      "block5_conv1 (Conv2D)        (None, 14, 14, 512)       2359808   \n",
      "_________________________________________________________________\n",
      "block5_conv2 (Conv2D)        (None, 14, 14, 512)       2359808   \n",
      "_________________________________________________________________\n",
      "block5_conv3 (Conv2D)        (None, 14, 14, 512)       2359808   \n",
      "_________________________________________________________________\n",
      "block5_pool (MaxPooling2D)   (None, 7, 7, 512)         0         \n",
      "_________________________________________________________________\n",
      "global (GlobalAveragePooling (None, 512)               0         \n",
      "_________________________________________________________________\n",
      "fc1 (Dense)                  (None, 512)               262656    \n",
      "_________________________________________________________________\n",
      "pred (Dense)                 (None, 10)                5130      \n",
      "=================================================================\n",
      "Total params: 14,982,474\n",
      "Trainable params: 14,943,754\n",
      "Non-trainable params: 38,720\n",
      "_________________________________________________________________\n",
      "compile finish!!!\n"
     ]
    },
    {
     "name": "stderr",
     "output_type": "stream",
     "text": [
      "/home/ubuntu/anaconda3/envs/tensorflow_p36/lib/python3.6/site-packages/ipykernel/__main__.py:16: UserWarning: Update your `Model` call to the Keras 2 API: `Model(inputs=Tensor(\"in..., outputs=Tensor(\"pr...)`\n"
     ]
    },
    {
     "name": "stdout",
     "output_type": "stream",
     "text": [
      "Epoch 1/20\n",
      "152/152 [==============================] - 497s 3s/step - loss: 2.3565 - acc: 0.1061 - val_loss: 2.3019 - val_acc: 0.1236\n",
      "Epoch 2/20\n",
      "152/152 [==============================] - 475s 3s/step - loss: 2.3013 - acc: 0.1090 - val_loss: 2.3014 - val_acc: 0.1236\n",
      "Epoch 3/20\n",
      "152/152 [==============================] - 475s 3s/step - loss: 2.3008 - acc: 0.1091 - val_loss: 2.3012 - val_acc: 0.1236\n",
      "Epoch 4/20\n",
      "152/152 [==============================] - 476s 3s/step - loss: 2.3004 - acc: 0.1090 - val_loss: 2.3010 - val_acc: 0.1236\n",
      "Epoch 5/20\n",
      " 18/152 [==>...........................] - ETA: 6:32 - loss: 2.2983 - acc: 0.1155"
     ]
    }
   ],
   "source": [
    "mean = [103.939, 116.779, 123.68]\n",
    "\n",
    "def normalize(x):\n",
    "    x = x.astype('float32')\n",
    "    x[:, :, 0] = (x[:, :, 0] - mean[0])\n",
    "    x[:, :, 1] = (x[:, :, 1] - mean[1])\n",
    "    x[:, :, 2] = (x[:, :, 2] - mean[2])\n",
    "    return x\n",
    "\n",
    "train_generator = ImageDataGenerator(\n",
    "    preprocessing_function=normalize)\n",
    "\n",
    "test_generator = ImageDataGenerator(preprocessing_function=normalize)\n",
    "\n",
    "\n",
    "def get_custom_model(num_class):\n",
    "    base_model = applications.VGG16(include_top=False, input_shape=(224, 224, 3))\n",
    "    for layer in base_model.layers[:4]:\n",
    "        print(layer.name)\n",
    "        layer.trainable = False\n",
    "    x = GlobalAveragePooling2D(name='global')(base_model.get_layer('block5_pool').output)\n",
    "    #     x = Dense(20, activation='linear', name='fc1', kernel_regularizer=l2(0.01))(x)\n",
    "    x = Dense(512, activation='relu', name='fc1')(x)\n",
    "    x = Dense(num_class, activation='softmax', name='pred')(x)\n",
    "    model = Model(input=base_model.input, output=x)\n",
    "    sgd = SGD(lr=1e-1, momentum=0.9, decay=1e-6, nesterov=True)\n",
    "    #     sgd = SGD(lr=1e-10)\n",
    "    model.compile(optimizer=sgd,\n",
    "                  loss='categorical_crossentropy',\n",
    "                  metrics=['accuracy'])\n",
    "    model.summary()\n",
    "    return model\n",
    "\n",
    "\n",
    "custom_model = get_custom_model(10)\n",
    "\n",
    "print(\"compile finish!!!\")\n",
    "current_path = os.getcwd()\n",
    "\n",
    "custom_model.fit_generator(\n",
    "    train_generator.flow_from_directory(class_mode='categorical', batch_size=128,\n",
    "                                        directory=current_path + '/train',\n",
    "                                        target_size=(224, 224)),\n",
    "    use_multiprocessing=True,\n",
    "    epochs=20,\n",
    "    shuffle=True,\n",
    "    validation_data=test_generator.flow_from_directory(class_mode='categorical', batch_size=128,\n",
    "                                                       target_size=(224, 224),\n",
    "                                                       directory=current_path + '/validation'),\n",
    "    verbose=1)\n",
    "\n",
    "custom_model.save_weights('weight_1.meta')\n"
   ]
  }
 ],
 "metadata": {
  "kernelspec": {
   "display_name": "Environment (conda_tensorflow_p36)",
   "language": "python",
   "name": "conda_tensorflow_p36"
  }
 },
 "nbformat": 4,
 "nbformat_minor": 2
}
